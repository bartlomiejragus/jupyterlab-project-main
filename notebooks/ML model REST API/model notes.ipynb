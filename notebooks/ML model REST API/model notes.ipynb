{
 "cells": [
  {
   "cell_type": "code",
   "execution_count": null,
   "id": "154fcd16-f54b-438b-98b4-e84fe909f8f8",
   "metadata": {},
   "outputs": [],
   "source": [
    "# variant 1\n",
    "# using sklearn.linear_model perceptron"
   ]
  },
  {
   "cell_type": "code",
   "execution_count": 17,
   "id": "5b15bbf1-46ae-43e4-8990-05024788ef80",
   "metadata": {},
   "outputs": [
    {
     "data": {
      "text/plain": [
       "['perceptron_model.joblib']"
      ]
     },
     "execution_count": 17,
     "metadata": {},
     "output_type": "execute_result"
    }
   ],
   "source": [
    "from sklearn.linear_model import Perceptron\n",
    "import numpy as np\n",
    "import joblib  # This is preferred over pickle for sklearn as it handles numpy arrays more efficiently\n",
    "\n",
    "# Sample data (X) and labels (y), replace with your actual dataset\n",
    "X = np.array([[1, 2], [2, 3], [3, 4], [4, 5]])\n",
    "y = np.array([0, 1, 0, 1])\n",
    "\n",
    "# Create and train the Perceptron model\n",
    "per_clf = Perceptron()\n",
    "per_clf.fit(X, y)\n",
    "\n",
    "# Save the model to disk\n",
    "joblib.dump(per_clf, 'perceptron_model.joblib')"
   ]
  },
  {
   "cell_type": "code",
   "execution_count": 18,
   "id": "256fe454-b887-4309-a8e4-47f311402f35",
   "metadata": {},
   "outputs": [
    {
     "name": "stdout",
     "output_type": "stream",
     "text": [
      "Overwriting app.py\n"
     ]
    }
   ],
   "source": [
    "%%file app.py\n",
    "from flask import Flask, request, jsonify\n",
    "import numpy as np\n",
    "import joblib\n",
    "\n",
    "app = Flask(__name__)\n",
    "\n",
    "# Load the model at application startup\n",
    "model = joblib.load('perceptron_model.joblib')\n",
    "\n",
    "@app.route('/api/v1.0/predict', methods=['GET'])\n",
    "def predict():\n",
    "    # Try to convert the input to float; use 0.0 if no valid input is provided\n",
    "    x1 = request.args.get('x1', default=0.0, type=float)\n",
    "    x2 = request.args.get('x2', default=0.0, type=float)\n",
    "\n",
    "    # Predict\n",
    "    prediction = model.predict(np.array([[x1, x2]]))\n",
    "\n",
    "    # Prepare and send the response\n",
    "    response = {\n",
    "        'features': {'x1': x1, 'x2': x2},\n",
    "        'predicted_class': int(prediction[0])\n",
    "    }\n",
    "    return jsonify(response)\n",
    "\n",
    "if __name__ == '__main__':\n",
    "    app.run(debug=True)  # Run in debug mode for development"
   ]
  },
  {
   "cell_type": "code",
   "execution_count": 19,
   "id": "cadf529b-e4e7-4857-9ece-fb69eb5d8195",
   "metadata": {},
   "outputs": [],
   "source": [
    "# TWOJ KOD \n",
    "import subprocess\n",
    "# TWOJ KOD \n",
    "process = subprocess.Popen(['python', 'app.py'], stdout=subprocess.PIPE, stderr=subprocess.PIPE)"
   ]
  },
  {
   "cell_type": "code",
   "execution_count": 20,
   "id": "a777461b-8149-46d0-9aaa-3ce4584c432b",
   "metadata": {},
   "outputs": [],
   "source": [
    "import requests"
   ]
  },
  {
   "cell_type": "code",
   "execution_count": 22,
   "id": "3525ab1a-cb4a-4650-9de4-596eebb46425",
   "metadata": {},
   "outputs": [
    {
     "data": {
      "text/plain": [
       "b'{\\n  \"features\": {\\n    \"x1\": 1.0,\\n    \"x2\": 2.0\\n  },\\n  \"predicted_class\": 1\\n}\\n'"
      ]
     },
     "execution_count": 22,
     "metadata": {},
     "output_type": "execute_result"
    }
   ],
   "source": [
    "response = requests.get(\"http://127.0.0.1:5000/api/v1.0/predict?x1=1&x2=2\")\n",
    "response.content"
   ]
  },
  {
   "cell_type": "code",
   "execution_count": 23,
   "id": "5c390321-0187-4645-9cdf-539ca804d384",
   "metadata": {},
   "outputs": [],
   "source": [
    "process.terminate()"
   ]
  },
  {
   "cell_type": "code",
   "execution_count": 24,
   "id": "3b342097-38ee-47e3-b1cf-c8d7165b8e63",
   "metadata": {},
   "outputs": [],
   "source": [
    "# variant 2\n",
    "# using object-oriented written perceptron"
   ]
  },
  {
   "cell_type": "code",
   "execution_count": 25,
   "id": "2d33bf20-07c7-4890-b456-d1b6bdceb479",
   "metadata": {},
   "outputs": [
    {
     "name": "stdout",
     "output_type": "stream",
     "text": [
      "Overwriting app.py\n"
     ]
    }
   ],
   "source": [
    "%%file app.py\n",
    "from flask import Flask, request, jsonify\n",
    "from models import Perceptron  # Ensure this matches your file and class structure\n",
    "import numpy as np\n",
    "import joblib\n",
    "\n",
    "app = Flask(__name__)\n",
    "\n",
    "# Load the model at application startup\n",
    "model = joblib.load('perceptron_model.joblib')\n",
    "\n",
    "@app.route('/api/v1.0/predict', methods=['GET'])\n",
    "def predict():\n",
    "    x1 = request.args.get('x1', default=0.0, type=float)\n",
    "    x2 = request.args.get('x2', default=0.0, type=float)\n",
    "    prediction = model.predict(np.array([[x1, x2]]))\n",
    "    response = {'features': {'x1': x1, 'x2': x2}, 'predicted_class': int(prediction[0])}\n",
    "    return jsonify(response)\n",
    "\n",
    "if __name__ == '__main__':\n",
    "    app.run(debug=True)\n"
   ]
  },
  {
   "cell_type": "code",
   "execution_count": 26,
   "id": "5e4dddcc-3af5-499e-b8a0-0e3fedf200c3",
   "metadata": {},
   "outputs": [],
   "source": [
    "# TWOJ KOD \n",
    "import subprocess\n",
    "# TWOJ KOD \n",
    "process = subprocess.Popen(['python', 'app.py'], stdout=subprocess.PIPE, stderr=subprocess.PIPE)"
   ]
  },
  {
   "cell_type": "code",
   "execution_count": 27,
   "id": "facba583-d5c8-47f3-b67e-7392252a8683",
   "metadata": {},
   "outputs": [],
   "source": [
    "import requests"
   ]
  },
  {
   "cell_type": "code",
   "execution_count": 28,
   "id": "10fc3379-f6ff-4945-b20d-a41d1ec8c451",
   "metadata": {},
   "outputs": [
    {
     "name": "stdout",
     "output_type": "stream",
     "text": [
      "Response Data: {'features': {'x1': 1.0, 'x2': 2.0}, 'predicted_class': 1}\n",
      "Predicted Class: 1\n"
     ]
    }
   ],
   "source": [
    "import json\n",
    "\n",
    "# URL for the API endpoint\n",
    "url = \"http://127.0.0.1:5000/api/v1.0/predict\"\n",
    "\n",
    "# Query parameters\n",
    "params = {\n",
    "    'x1': 1,\n",
    "    'x2': 2\n",
    "}\n",
    "\n",
    "try:\n",
    "    # Send a GET request\n",
    "    response = requests.get(url, params=params)\n",
    "    \n",
    "    # Check if the request was successful\n",
    "    if response.status_code == 200:\n",
    "        # Parse the JSON response\n",
    "        data = response.json()\n",
    "        print(\"Response Data:\", data)\n",
    "        print(\"Predicted Class:\", data['predicted_class'])\n",
    "    else:\n",
    "        print(\"Failed to get a valid response, status code:\", response.status_code)\n",
    "except requests.exceptions.RequestException as e:\n",
    "    print(\"Request failed:\", e)"
   ]
  },
  {
   "cell_type": "code",
   "execution_count": 29,
   "id": "d468daaa-c6f8-46bd-8c30-833bbfaf8e15",
   "metadata": {},
   "outputs": [],
   "source": [
    "process.terminate()"
   ]
  }
 ],
 "metadata": {
  "kernelspec": {
   "display_name": "Python 3 (ipykernel)",
   "language": "python",
   "name": "python3"
  },
  "language_info": {
   "codemirror_mode": {
    "name": "ipython",
    "version": 3
   },
   "file_extension": ".py",
   "mimetype": "text/x-python",
   "name": "python",
   "nbconvert_exporter": "python",
   "pygments_lexer": "ipython3",
   "version": "3.11.5"
  }
 },
 "nbformat": 4,
 "nbformat_minor": 5
}
